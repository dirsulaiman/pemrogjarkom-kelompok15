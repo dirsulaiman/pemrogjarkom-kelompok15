{
 "cells": [
  {
   "cell_type": "markdown",
   "metadata": {},
   "source": [
    "# Save data to Database\n",
    "### We use PostgreSql 10\n",
    "* Database name: kelompok_15\n",
    "* table name: liga_ingris\n",
    "\n",
    "### Recruitments\n",
    "* install Psycopg2 module\n",
    "* install getPass"
   ]
  },
  {
   "cell_type": "code",
   "execution_count": 1,
   "metadata": {},
   "outputs": [
    {
     "name": "stdout",
     "output_type": "stream",
     "text": [
      "Username = dir\n",
      "Password = ········\n"
     ]
    }
   ],
   "source": [
    "import psycopg2 as pg\n",
    "import getpass\n",
    "\n",
    "username = input('Username = ')\n",
    "pas = getpass.getpass('Password = ')\n",
    "conn = pg.connect(database=\"kelompok_15\", user=username, password=pas, host=\"127.0.0.1\", port=\"5432\")"
   ]
  },
  {
   "cell_type": "markdown",
   "metadata": {},
   "source": [
    "## Insert Datas"
   ]
  },
  {
   "cell_type": "code",
   "execution_count": 14,
   "metadata": {},
   "outputs": [],
   "source": [
    "cur = conn.cursor()\n",
    "cur.execute(\"insert into liga_ingris (matchday, team1, team2, score_team1, score_team2) values ('match day 2', 'team 1', 'team 2', 1, 3)\");\n",
    "conn.commit()"
   ]
  },
  {
   "cell_type": "markdown",
   "metadata": {},
   "source": [
    "## Get rows"
   ]
  },
  {
   "cell_type": "code",
   "execution_count": 2,
   "metadata": {},
   "outputs": [
    {
     "name": "stdout",
     "output_type": "stream",
     "text": [
      "(83, 'Matchday 17 of 38', False, 'Crystal Palace FC', 'Brighton & Hove Albion FC', None, None, '17/12/19', '03:00')\n",
      "(84, 'Matchday 17 of 38', False, 'Arsenal FC', 'Manchester City FC', None, None, '15/12/19', '23:30')\n",
      "(85, 'Matchday 17 of 38', False, 'Wolverhampton Wanderers', 'Tottenham Hotspur FC', None, None, '15/12/19', '21:00')\n",
      "(86, 'Matchday 17 of 38', False, 'Manchester United FC', 'Everton FC', None, None, '15/12/19', '21:00')\n",
      "(87, 'Matchday 17 of 38', False, 'Southampton FC', 'West Ham United FC', None, None, '15/12/19', '00:30')\n",
      "(88, 'Matchday 17 of 38', False, 'Sheffield United FC', 'Aston Villa FC', None, None, '14/12/19', '22:00')\n",
      "(89, 'Matchday 17 of 38', False, 'Leicester City FC', 'Norwich City FC', None, None, '14/12/19', '22:00')\n",
      "(90, 'Matchday 17 of 38', False, 'Chelsea FC', 'AFC Bournemouth', None, None, '14/12/19', '22:00')\n",
      "(91, 'Matchday 17 of 38', False, 'Burnley FC', 'Newcastle United FC', None, None, '14/12/19', '22:00')\n",
      "(92, 'Matchday 17 of 38', False, 'Liverpool FC', 'Watford FC', None, None, '14/12/19', '19:30')\n",
      "(93, 'Matchday 16 of 38', False, 'West Ham United FC', 'Arsenal FC', None, None, '10/12/19', '03:00')\n",
      "(94, 'Matchday 16 of 38', False, 'Brighton & Hove Albion FC', 'Wolverhampton Wanderers', None, None, '08/12/19', '23:30')\n",
      "(95, 'Matchday 16 of 38', False, 'Norwich City FC', 'Sheffield United FC', None, None, '08/12/19', '21:00')\n",
      "(96, 'Matchday 16 of 38', False, 'Newcastle United FC', 'Southampton FC', None, None, '08/12/19', '21:00')\n",
      "(97, 'Matchday 16 of 38', False, 'Aston Villa FC', 'Leicester City FC', None, None, '08/12/19', '21:00')\n",
      "(98, 'Matchday 16 of 38', False, 'Manchester City FC', 'Manchester United FC', None, None, '08/12/19', '00:30')\n",
      "(99, 'Matchday 16 of 38', False, 'Watford FC', 'Crystal Palace FC', None, None, '07/12/19', '22:00')\n",
      "(100, 'Matchday 16 of 38', False, 'Tottenham Hotspur FC', 'Burnley FC', None, None, '07/12/19', '22:00')\n",
      "(101, 'Matchday 16 of 38', False, 'AFC Bournemouth', 'Liverpool FC', None, None, '07/12/19', '22:00')\n",
      "(102, 'Matchday 16 of 38', False, 'Everton FC', 'Chelsea FC', None, None, '07/12/19', '19:30')\n",
      "(103, 'Matchday 15 of 38', False, 'Arsenal FC', 'Brighton & Hove Albion FC', None, None, '06/12/19', '03:15')\n",
      "(104, 'Matchday 15 of 38', False, 'Sheffield United FC', 'Newcastle United FC', None, None, '06/12/19', '02:30')\n",
      "(105, 'Matchday 15 of 38', False, 'Liverpool FC', 'Everton FC', None, None, '05/12/19', '03:15')\n",
      "(106, 'Matchday 15 of 38', False, 'Southampton FC', 'Norwich City FC', None, None, '05/12/19', '02:30')\n",
      "(107, 'Matchday 15 of 38', False, 'Chelsea FC', 'Aston Villa FC', None, None, '05/12/19', '02:30')\n",
      "(108, 'Matchday 15 of 38', False, 'Wolverhampton Wanderers', 'West Ham United FC', None, None, '05/12/19', '02:30')\n",
      "(109, 'Matchday 15 of 38', False, 'Manchester United FC', 'Tottenham Hotspur FC', None, None, '05/12/19', '02:30')\n",
      "(110, 'Matchday 15 of 38', False, 'Leicester City FC', 'Watford FC', None, None, '05/12/19', '02:30')\n",
      "(111, 'Matchday 15 of 38', False, 'Burnley FC', 'Manchester City FC', None, None, '04/12/19', '03:15')\n",
      "(112, 'Matchday 15 of 38', False, 'Crystal Palace FC', 'AFC Bournemouth', None, None, '04/12/19', '02:30')\n",
      "(113, 'Matchday 14 of 38', False, 'Manchester United FC', 'Aston Villa FC', None, None, '01/12/19', '23:30')\n",
      "(114, 'Matchday 14 of 38', False, 'Leicester City FC', 'Everton FC', None, None, '01/12/19', '23:30')\n",
      "(115, 'Matchday 14 of 38', False, 'Wolverhampton Wanderers', 'Sheffield United FC', None, None, '01/12/19', '21:00')\n",
      "(116, 'Matchday 14 of 38', False, 'Norwich City FC', 'Arsenal FC', None, None, '01/12/19', '21:00')\n",
      "(117, 'Matchday 14 of 38', False, 'Southampton FC', 'Watford FC', None, None, '01/12/19', '00:30')\n",
      "(118, 'Matchday 14 of 38', False, 'Tottenham Hotspur FC', 'AFC Bournemouth', None, None, '30/11/19', '22:00')\n",
      "(119, 'Matchday 14 of 38', False, 'Liverpool FC', 'Brighton & Hove Albion FC', None, None, '30/11/19', '22:00')\n",
      "(120, 'Matchday 14 of 38', False, 'Chelsea FC', 'West Ham United FC', None, None, '30/11/19', '22:00')\n",
      "(121, 'Matchday 14 of 38', False, 'Burnley FC', 'Crystal Palace FC', None, None, '30/11/19', '22:00')\n",
      "(122, 'Matchday 14 of 38', False, 'Newcastle United FC', 'Manchester City FC', None, None, '30/11/19', '19:30')\n",
      "(123, 'Matchday 13 of 38', False, 'Aston Villa FC', 'Newcastle United FC', None, None, '26/11/19', '03:00')\n",
      "(124, 'Matchday 13 of 38', False, 'Sheffield United FC', 'Manchester United FC', None, None, '24/11/19', '23:30')\n",
      "(125, 'Matchday 13 of 38', False, 'Manchester City FC', 'Chelsea FC', None, None, '24/11/19', '00:30')\n",
      "(126, 'Matchday 13 of 38', False, 'Watford FC', 'Burnley FC', None, None, '23/11/19', '22:00')\n",
      "(127, 'Matchday 13 of 38', False, 'Everton FC', 'Norwich City FC', None, None, '23/11/19', '22:00')\n",
      "(128, 'Matchday 13 of 38', False, 'Crystal Palace FC', 'Liverpool FC', None, None, '23/11/19', '22:00')\n",
      "(129, 'Matchday 13 of 38', False, 'Brighton & Hove Albion FC', 'Leicester City FC', None, None, '23/11/19', '22:00')\n",
      "(130, 'Matchday 13 of 38', False, 'Arsenal FC', 'Southampton FC', None, None, '23/11/19', '22:00')\n",
      "(131, 'Matchday 13 of 38', False, 'AFC Bournemouth', 'Wolverhampton Wanderers', None, None, '23/11/19', '22:00')\n",
      "(132, 'Matchday 13 of 38', False, 'West Ham United FC', 'Tottenham Hotspur FC', None, None, '23/11/19', '19:30')\n",
      "(133, 'Matchday 12 of 38', True, 'Liverpool FC', 'Manchester City FC', 3, 1, '10/11/19', None)\n",
      "(134, 'Matchday 12 of 38', True, 'Wolverhampton Wanderers', 'Aston Villa FC', 2, 1, '10/11/19', None)\n",
      "(135, 'Matchday 12 of 38', True, 'Manchester United FC', 'Brighton & Hove Albion FC', 3, 1, '10/11/19', None)\n",
      "(136, 'Matchday 12 of 38', True, 'Leicester City FC', 'Arsenal FC', 2, 0, '10/11/19', None)\n",
      "(137, 'Matchday 12 of 38', True, 'Tottenham Hotspur FC', 'Sheffield United FC', 1, 1, '09/11/19', None)\n",
      "(138, 'Matchday 12 of 38', True, 'Southampton FC', 'Everton FC', 1, 2, '09/11/19', None)\n",
      "(139, 'Matchday 12 of 38', True, 'Newcastle United FC', 'AFC Bournemouth', 2, 1, '09/11/19', None)\n",
      "(140, 'Matchday 12 of 38', True, 'Burnley FC', 'West Ham United FC', 3, 0, '09/11/19', None)\n",
      "(141, 'Matchday 12 of 38', True, 'Chelsea FC', 'Crystal Palace FC', 2, 0, '09/11/19', None)\n",
      "(142, 'Matchday 12 of 38', True, 'Norwich City FC', 'Watford FC', 0, 2, '09/11/19', None)\n",
      "(143, 'Matchday 11 of 38', True, 'Everton FC', 'Tottenham Hotspur FC', 1, 1, '03/11/19', None)\n",
      "(144, 'Matchday 11 of 38', True, 'Crystal Palace FC', 'Leicester City FC', 0, 2, '03/11/19', None)\n",
      "(145, 'Matchday 11 of 38', True, 'Watford FC', 'Chelsea FC', 1, 2, '03/11/19', None)\n",
      "(146, 'Matchday 11 of 38', True, 'West Ham United FC', 'Newcastle United FC', 2, 3, '02/11/19', None)\n",
      "(147, 'Matchday 11 of 38', True, 'Sheffield United FC', 'Burnley FC', 3, 0, '02/11/19', None)\n",
      "(148, 'Matchday 11 of 38', True, 'Manchester City FC', 'Southampton FC', 2, 1, '02/11/19', None)\n",
      "(149, 'Matchday 11 of 38', True, 'Brighton & Hove Albion FC', 'Norwich City FC', 2, 0, '02/11/19', None)\n",
      "(150, 'Matchday 11 of 38', True, 'Aston Villa FC', 'Liverpool FC', 1, 2, '02/11/19', None)\n",
      "(151, 'Matchday 11 of 38', True, 'Arsenal FC', 'Wolverhampton Wanderers', 1, 1, '02/11/19', None)\n",
      "(152, 'Matchday 11 of 38', True, 'AFC Bournemouth', 'Manchester United FC', 1, 0, '02/11/19', None)\n",
      "(153, 'Matchday 10 of 38', True, 'Norwich City FC', 'Manchester United FC', 1, 3, '27/10/19', None)\n",
      "(154, 'Matchday 10 of 38', True, 'Liverpool FC', 'Tottenham Hotspur FC', 2, 1, '27/10/19', None)\n",
      "(155, 'Matchday 10 of 38', True, 'Arsenal FC', 'Crystal Palace FC', 2, 2, '27/10/19', None)\n",
      "(156, 'Matchday 10 of 38', True, 'Newcastle United FC', 'Wolverhampton Wanderers', 1, 1, '27/10/19', None)\n",
      "(157, 'Matchday 10 of 38', True, 'Burnley FC', 'Chelsea FC', 2, 4, '26/10/19', None)\n",
      "(158, 'Matchday 10 of 38', True, 'West Ham United FC', 'Sheffield United FC', 1, 1, '26/10/19', None)\n",
      "(159, 'Matchday 10 of 38', True, 'Watford FC', 'AFC Bournemouth', 0, 0, '26/10/19', None)\n",
      "(160, 'Matchday 10 of 38', True, 'Brighton & Hove Albion FC', 'Everton FC', 3, 2, '26/10/19', None)\n",
      "(161, 'Matchday 10 of 38', True, 'Manchester City FC', 'Aston Villa FC', 3, 0, '26/10/19', None)\n",
      "(162, 'Matchday 10 of 38', True, 'Southampton FC', 'Leicester City FC', 0, 9, '26/10/19', None)\n",
      "(163, 'Matchday 9 of 38', True, 'Sheffield United FC', 'Arsenal FC', 1, 0, '22/10/19', None)\n"
     ]
    }
   ],
   "source": [
    "cur = conn.cursor()\n",
    "cur.execute('select * from liga_ingris')\n",
    "rows = cur.fetchall()\n",
    "for row in rows:\n",
    "    print(row)\n",
    "    \n",
    "conn.close()"
   ]
  },
  {
   "cell_type": "code",
   "execution_count": 15,
   "metadata": {},
   "outputs": [],
   "source": [
    "conn.close()"
   ]
  },
  {
   "cell_type": "code",
   "execution_count": null,
   "metadata": {},
   "outputs": [],
   "source": []
  }
 ],
 "metadata": {
  "kernelspec": {
   "display_name": "Python 3",
   "language": "python",
   "name": "python3"
  },
  "language_info": {
   "codemirror_mode": {
    "name": "ipython",
    "version": 3
   },
   "file_extension": ".py",
   "mimetype": "text/x-python",
   "name": "python",
   "nbconvert_exporter": "python",
   "pygments_lexer": "ipython3",
   "version": "3.6.8"
  }
 },
 "nbformat": 4,
 "nbformat_minor": 2
}
