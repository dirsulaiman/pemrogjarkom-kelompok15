{
 "cells": [
  {
   "cell_type": "markdown",
   "metadata": {},
   "source": [
    "# Get Data Liga Ingris\n",
    "## Kelompok 15 Pemrograman Jaringan Komputer\n",
    "- source: https://sport.detik.com/sepakbola/jadwal/liga-inggristhis \n",
    "- project: https://github.com/dirsulaiman/pemrogjarkom-kelompok15\n",
    "\n",
    "### Library Required\n",
    "* BeautifulSoup\n",
    "* Pandas\n",
    "* Psycopg2\n",
    "* Getpass\n",
    "* Twilio"
   ]
  },
  {
   "cell_type": "markdown",
   "metadata": {},
   "source": [
    "## Get Data from Tag HTML"
   ]
  },
  {
   "cell_type": "code",
   "execution_count": 14,
   "metadata": {},
   "outputs": [],
   "source": [
    "import urllib.request as urllib2\n",
    "from bs4 import BeautifulSoup\n",
    "\n",
    "site = \"https://sport.detik.com/sepakbola/jadwal/liga-inggris\";\n",
    "page = urllib2.urlopen(site)\n",
    "soup = BeautifulSoup(page, 'html.parser')\n",
    "\n",
    "matchList = soup.findAll('div', attrs={'class':'match_schedule'})\n",
    "#print(match)"
   ]
  },
  {
   "cell_type": "code",
   "execution_count": 15,
   "metadata": {},
   "outputs": [],
   "source": [
    "# make list\n",
    "matchList_table = []\n",
    "\n",
    "#foreach match list\n",
    "for m in matchList:\n",
    "    \n",
    "    #foreach li on matchday\n",
    "    for li in m.findAll('li'):\n",
    "        #make match dictionary\n",
    "        match = {'matchday':'', 'is_pass':'', 'team1':'', 'team2':'', 'score_team1':'', 'score_team2':'', 'date':'', 'time':''}\n",
    "\n",
    "        #get matchday name\n",
    "        match['matchday'] = next(m.find('div', 'title').stripped_strings)\n",
    "        \n",
    "        #stripped string on li, return generator\n",
    "        contents = li.stripped_strings\n",
    "        \n",
    "        #convert generator to list\n",
    "        texts = list(contents)\n",
    "       \n",
    "        #check if li has class='full-time'\n",
    "        if li.get('class'):\n",
    "            #print(li.get('class')[0])\n",
    "            match['is_pass'] = True\n",
    "            match['team1'] = texts[0]\n",
    "            match['team2'] = texts[1]\n",
    "            match['score_team1'] = texts[2]\n",
    "            match['score_team2'] = texts[3]\n",
    "            match['date'] = texts[5]\n",
    "            #add data to matchList_table[]\n",
    "            matchList_table.append(match)\n",
    "        else:\n",
    "            match['is_pass'] = False\n",
    "            match['team1'] = texts[0]\n",
    "            match['team2'] = texts[1]\n",
    "            match['date'] = texts[2]\n",
    "            match['time'] = texts[3]\n",
    "            #add data to matchList_table[]\n",
    "            matchList_table.append(match)\n",
    "\n",
    "#print(matchList_table)"
   ]
  },
  {
   "cell_type": "markdown",
   "metadata": {},
   "source": [
    "## Display Data as Table"
   ]
  },
  {
   "cell_type": "code",
   "execution_count": 16,
   "metadata": {
    "scrolled": true
   },
   "outputs": [
    {
     "data": {
      "text/html": [
       "<div>\n",
       "<style scoped>\n",
       "    .dataframe tbody tr th:only-of-type {\n",
       "        vertical-align: middle;\n",
       "    }\n",
       "\n",
       "    .dataframe tbody tr th {\n",
       "        vertical-align: top;\n",
       "    }\n",
       "\n",
       "    .dataframe thead th {\n",
       "        text-align: right;\n",
       "    }\n",
       "</style>\n",
       "<table border=\"1\" class=\"dataframe\">\n",
       "  <thead>\n",
       "    <tr style=\"text-align: right;\">\n",
       "      <th></th>\n",
       "      <th>matchday</th>\n",
       "      <th>is_pass</th>\n",
       "      <th>team1</th>\n",
       "      <th>team2</th>\n",
       "      <th>score_team1</th>\n",
       "      <th>score_team2</th>\n",
       "      <th>date</th>\n",
       "      <th>time</th>\n",
       "    </tr>\n",
       "  </thead>\n",
       "  <tbody>\n",
       "    <tr>\n",
       "      <th>0</th>\n",
       "      <td>Matchday 21 of 38</td>\n",
       "      <td>False</td>\n",
       "      <td>Arsenal FC</td>\n",
       "      <td>Manchester United FC</td>\n",
       "      <td></td>\n",
       "      <td></td>\n",
       "      <td>02/01/20</td>\n",
       "      <td>03:00</td>\n",
       "    </tr>\n",
       "    <tr>\n",
       "      <th>1</th>\n",
       "      <td>Matchday 21 of 38</td>\n",
       "      <td>False</td>\n",
       "      <td>West Ham United FC</td>\n",
       "      <td>AFC Bournemouth</td>\n",
       "      <td></td>\n",
       "      <td></td>\n",
       "      <td>02/01/20</td>\n",
       "      <td>00:30</td>\n",
       "    </tr>\n",
       "    <tr>\n",
       "      <th>2</th>\n",
       "      <td>Matchday 21 of 38</td>\n",
       "      <td>False</td>\n",
       "      <td>Norwich City FC</td>\n",
       "      <td>Crystal Palace FC</td>\n",
       "      <td></td>\n",
       "      <td></td>\n",
       "      <td>02/01/20</td>\n",
       "      <td>00:30</td>\n",
       "    </tr>\n",
       "    <tr>\n",
       "      <th>3</th>\n",
       "      <td>Matchday 21 of 38</td>\n",
       "      <td>False</td>\n",
       "      <td>Manchester City FC</td>\n",
       "      <td>Everton FC</td>\n",
       "      <td></td>\n",
       "      <td></td>\n",
       "      <td>02/01/20</td>\n",
       "      <td>00:30</td>\n",
       "    </tr>\n",
       "    <tr>\n",
       "      <th>4</th>\n",
       "      <td>Matchday 21 of 38</td>\n",
       "      <td>False</td>\n",
       "      <td>Watford FC</td>\n",
       "      <td>Wolverhampton Wanderers</td>\n",
       "      <td></td>\n",
       "      <td></td>\n",
       "      <td>01/01/20</td>\n",
       "      <td>22:00</td>\n",
       "    </tr>\n",
       "    <tr>\n",
       "      <th>...</th>\n",
       "      <td>...</td>\n",
       "      <td>...</td>\n",
       "      <td>...</td>\n",
       "      <td>...</td>\n",
       "      <td>...</td>\n",
       "      <td>...</td>\n",
       "      <td>...</td>\n",
       "      <td>...</td>\n",
       "    </tr>\n",
       "    <tr>\n",
       "      <th>95</th>\n",
       "      <td>Matchday 12 of 38</td>\n",
       "      <td>True</td>\n",
       "      <td>Newcastle United FC</td>\n",
       "      <td>AFC Bournemouth</td>\n",
       "      <td>2</td>\n",
       "      <td>1</td>\n",
       "      <td>09/11/19</td>\n",
       "      <td></td>\n",
       "    </tr>\n",
       "    <tr>\n",
       "      <th>96</th>\n",
       "      <td>Matchday 12 of 38</td>\n",
       "      <td>True</td>\n",
       "      <td>Burnley FC</td>\n",
       "      <td>West Ham United FC</td>\n",
       "      <td>3</td>\n",
       "      <td>0</td>\n",
       "      <td>09/11/19</td>\n",
       "      <td></td>\n",
       "    </tr>\n",
       "    <tr>\n",
       "      <th>97</th>\n",
       "      <td>Matchday 12 of 38</td>\n",
       "      <td>True</td>\n",
       "      <td>Chelsea FC</td>\n",
       "      <td>Crystal Palace FC</td>\n",
       "      <td>2</td>\n",
       "      <td>0</td>\n",
       "      <td>09/11/19</td>\n",
       "      <td></td>\n",
       "    </tr>\n",
       "    <tr>\n",
       "      <th>98</th>\n",
       "      <td>Matchday 12 of 38</td>\n",
       "      <td>True</td>\n",
       "      <td>Norwich City FC</td>\n",
       "      <td>Watford FC</td>\n",
       "      <td>0</td>\n",
       "      <td>2</td>\n",
       "      <td>09/11/19</td>\n",
       "      <td></td>\n",
       "    </tr>\n",
       "    <tr>\n",
       "      <th>99</th>\n",
       "      <td>Matchday 11 of 38</td>\n",
       "      <td>True</td>\n",
       "      <td>Everton FC</td>\n",
       "      <td>Tottenham Hotspur FC</td>\n",
       "      <td>1</td>\n",
       "      <td>1</td>\n",
       "      <td>03/11/19</td>\n",
       "      <td></td>\n",
       "    </tr>\n",
       "  </tbody>\n",
       "</table>\n",
       "<p>100 rows × 8 columns</p>\n",
       "</div>"
      ],
      "text/plain": [
       "             matchday  is_pass                team1                    team2  \\\n",
       "0   Matchday 21 of 38    False           Arsenal FC     Manchester United FC   \n",
       "1   Matchday 21 of 38    False   West Ham United FC          AFC Bournemouth   \n",
       "2   Matchday 21 of 38    False      Norwich City FC        Crystal Palace FC   \n",
       "3   Matchday 21 of 38    False   Manchester City FC               Everton FC   \n",
       "4   Matchday 21 of 38    False           Watford FC  Wolverhampton Wanderers   \n",
       "..                ...      ...                  ...                      ...   \n",
       "95  Matchday 12 of 38     True  Newcastle United FC          AFC Bournemouth   \n",
       "96  Matchday 12 of 38     True           Burnley FC       West Ham United FC   \n",
       "97  Matchday 12 of 38     True           Chelsea FC        Crystal Palace FC   \n",
       "98  Matchday 12 of 38     True      Norwich City FC               Watford FC   \n",
       "99  Matchday 11 of 38     True           Everton FC     Tottenham Hotspur FC   \n",
       "\n",
       "   score_team1 score_team2      date   time  \n",
       "0                           02/01/20  03:00  \n",
       "1                           02/01/20  00:30  \n",
       "2                           02/01/20  00:30  \n",
       "3                           02/01/20  00:30  \n",
       "4                           01/01/20  22:00  \n",
       "..         ...         ...       ...    ...  \n",
       "95           2           1  09/11/19         \n",
       "96           3           0  09/11/19         \n",
       "97           2           0  09/11/19         \n",
       "98           0           2  09/11/19         \n",
       "99           1           1  03/11/19         \n",
       "\n",
       "[100 rows x 8 columns]"
      ]
     },
     "metadata": {},
     "output_type": "display_data"
    }
   ],
   "source": [
    "import pandas as panda\n",
    "dataFrames = panda.DataFrame(matchList_table)\n",
    "\n",
    "#display data as table\n",
    "display(dataFrames)"
   ]
  },
  {
   "cell_type": "markdown",
   "metadata": {},
   "source": [
    "## Save data to Database"
   ]
  },
  {
   "cell_type": "code",
   "execution_count": 1,
   "metadata": {},
   "outputs": [
    {
     "name": "stdout",
     "output_type": "stream",
     "text": [
      "Password = ········\n"
     ]
    }
   ],
   "source": [
    "import psycopg2 as pg\n",
    "import getpass\n",
    "\n",
    "#username = input('Username = ')\n",
    "pas = getpass.getpass('Password = ')\n",
    "conn = pg.connect(database=\"kelompok_15\", user=\"dir\", password=pas, host=\"127.0.0.1\", port=\"5432\")"
   ]
  },
  {
   "cell_type": "code",
   "execution_count": null,
   "metadata": {},
   "outputs": [],
   "source": [
    "cur = conn.cursor()\n",
    "for row in matchList_table:\n",
    "    if row['is_pass']:\n",
    "        cur.execute(\"insert into liga_ingris (matchday, is_pass, team1, team2, score_team1, score_team2, date) values ('\" +row['matchday']+ \"',\" +str(row['is_pass'])+ \",'\" +row['team1']+ \"','\" +row['team2']+ \"','\" +row['score_team1']+ \"','\" +row['score_team2']+ \"','\" +row['date']+ \"')\")        \n",
    "    else:\n",
    "        cur.execute(\"insert into liga_ingris (matchday, is_pass, team1, team2, date, time) values ('\" +row['matchday']+ \"',\" +str(row['is_pass'])+ \",'\" +row['team1']+ \"','\" +row['team2']+ \"','\" +row['date']+ \"','\" +row['time']+ \"')\")\n",
    "conn.commit()\n",
    "#conn.close()"
   ]
  },
  {
   "cell_type": "markdown",
   "metadata": {},
   "source": [
    "## Defenition Functions"
   ]
  },
  {
   "cell_type": "code",
   "execution_count": 44,
   "metadata": {},
   "outputs": [],
   "source": [
    "import datetime as dt\n",
    "from datetime import datetime\n",
    "from twilio.rest import Client\n",
    "from time import sleep\n",
    "\n",
    "#parameter date=\"dd/mm/yy\" time=\"hh:mm\"\n",
    "def toDatetime(date, time):\n",
    "    dat = date.split('/')\n",
    "    tim = time.split(':')\n",
    "    return dt.datetime(int(\"20\"+dat[2]), int(dat[1]), int(dat[0]), int(tim[0]), int(tim[1]))\n",
    "\n",
    "def timeToNotify(time):\n",
    "    return time - dt.timedelta(hours=6)\n",
    "\n",
    "# return delay in seconds with type float\n",
    "def getDelay(time):\n",
    "    return timeToNotify(time).timestamp()-datetime.now().timestamp()\n",
    "\n",
    "#parameter message=\"string\", to=\"+62xxx\", delay=delays\n",
    "def sendWhatsappMessage(message, to, delay):\n",
    "    account_sid = 'AC380ba9e71406a71a7042377a46a5615e'\n",
    "    auth_token = 'a66ff691ee115435f2203f2127c2c91f'\n",
    "    client = Client(account_sid, auth_token)\n",
    "\n",
    "    from_whatsapp_number = 'whatsapp:+14155238886'\n",
    "    to_whatsapp_number = 'whatsapp:'+to\n",
    "    sleep(delay)\n",
    "    client.messages.create(body=message, from_=from_whatsapp_number, to=to_whatsapp_number)"
   ]
  },
  {
   "cell_type": "markdown",
   "metadata": {},
   "source": [
    "## Multi Thread"
   ]
  },
  {
   "cell_type": "code",
   "execution_count": 45,
   "metadata": {},
   "outputs": [
    {
     "name": "stdout",
     "output_type": "stream",
     "text": [
      "thread finished...exiting\n"
     ]
    }
   ],
   "source": [
    "from threading import Thread\n",
    "from time import sleep\n",
    "\n",
    "thread = Thread(target = sendWhatsappMessage, args = (\"ini pesan\",\"+6285825327542\", 60))\n",
    "thread.start()\n",
    "print(\"thread finished...exiting\")"
   ]
  },
  {
   "cell_type": "code",
   "execution_count": null,
   "metadata": {},
   "outputs": [
    {
     "name": "stdout",
     "output_type": "stream",
     "text": [
      "672.5078361034393\n",
      "62998.01568007469\n"
     ]
    }
   ],
   "source": [
    "#thread list for each match\n",
    "threads_list = []\n",
    "i = 0\n",
    "\n",
    "#fetch all data from database\n",
    "cur = conn.cursor()\n",
    "cur.execute('select * from liga_ingris')\n",
    "table_rows = cur.fetchall()\n",
    "conn.commit()\n",
    "\n",
    "for row in table_rows:\n",
    "    if not row[2]:\n",
    "        #get delay to notify via WA\n",
    "        delay = getDelay((toDatetime(row[7], row[8])))\n",
    "        if delay >= 0:\n",
    "            print(delay)\n",
    "            #make message\n",
    "            messageContent = \"*Informasi Akan Bertanding* \\n\"+row[3]+\" *VS* \"+row[4]+\"\\n\"+row[1]+\"\\n\"+\"Pada \"+row[7]+\" Pukul \"+row[8]\n",
    "            thread = Thread(target = sendWhatsappMessage, args = (messageContent,\"+6285825327542\", delay))\n",
    "            threads_list.append(thread)\n",
    "            #start thread\n",
    "            #each thread sleep for delay time given\n",
    "            threads_list[i].start()\n",
    "            threads_list[i].join()\n",
    "            i = i+1\n",
    "            #print(messageContent)\n",
    "            \n",
    "conn.close()"
   ]
  },
  {
   "cell_type": "code",
   "execution_count": null,
   "metadata": {},
   "outputs": [],
   "source": []
  }
 ],
 "metadata": {
  "kernelspec": {
   "display_name": "Python 3",
   "language": "python",
   "name": "python3"
  },
  "language_info": {
   "codemirror_mode": {
    "name": "ipython",
    "version": 3
   },
   "file_extension": ".py",
   "mimetype": "text/x-python",
   "name": "python",
   "nbconvert_exporter": "python",
   "pygments_lexer": "ipython3",
   "version": "3.6.8"
  }
 },
 "nbformat": 4,
 "nbformat_minor": 2
}
