{
 "cells": [
  {
   "cell_type": "markdown",
   "metadata": {},
   "source": [
    "# Get Data Liga Ingris\n",
    "## Kelompok 15 Pemrograman Jaringan Komputer\n",
    "source: https://sport.detik.com/sepakbola/jadwal/liga-inggris"
   ]
  },
  {
   "cell_type": "code",
   "execution_count": 2,
   "metadata": {},
   "outputs": [],
   "source": [
    "import urllib.request as urllib2\n",
    "from bs4 import BeautifulSoup\n",
    "\n",
    "site = \"https://sport.detik.com/sepakbola/jadwal/liga-inggris\";\n",
    "page = urllib2.urlopen(site)\n",
    "soup = BeautifulSoup(page, 'html.parser')\n",
    "\n",
    "matchList = soup.findAll('div', attrs={'class':'match_schedule'})\n",
    "#print(match)"
   ]
  },
  {
   "cell_type": "code",
   "execution_count": 3,
   "metadata": {},
   "outputs": [],
   "source": [
    "# make list\n",
    "matchList_table = []\n",
    "\n",
    "#foreach match list\n",
    "for m in matchList:\n",
    "    \n",
    "    #foreach li on matchday\n",
    "    for li in m.findAll('li'):\n",
    "        #make match dictionary\n",
    "        match = {'matchday':'', 'is_pass':'', 'team1':'', 'team2':'', 'score_team1':'', 'score_team2':'', 'date':'', 'time':''}\n",
    "\n",
    "        #get matchday name\n",
    "        match['matchday'] = next(m.find('div', 'title').stripped_strings)\n",
    "        \n",
    "        #stripped string on li, return generator\n",
    "        contents = li.stripped_strings\n",
    "        \n",
    "        #convert generator to list\n",
    "        texts = list(contents)\n",
    "       \n",
    "        #check if li has class='full-time'\n",
    "        if li.get('class'):\n",
    "            #print(li.get('class')[0])\n",
    "            match['is_pass'] = True\n",
    "            match['team1'] = texts[0]\n",
    "            match['team2'] = texts[1]\n",
    "            match['score_team1'] = texts[2]\n",
    "            match['score_team2'] = texts[3]\n",
    "            match['date'] = texts[5]\n",
    "            #add data to matchList_table[]\n",
    "            matchList_table.append(match)\n",
    "        else:\n",
    "            match['is_pass'] = False\n",
    "            match['team1'] = texts[0]\n",
    "            match['team2'] = texts[1]\n",
    "            match['date'] = texts[2]\n",
    "            match['time'] = texts[3]\n",
    "            #add data to matchList_table[]\n",
    "            matchList_table.append(match)\n",
    "\n",
    "#print(matchList_table)"
   ]
  },
  {
   "cell_type": "code",
   "execution_count": 3,
   "metadata": {
    "scrolled": true
   },
   "outputs": [
    {
     "data": {
      "text/html": [
       "<div>\n",
       "<style scoped>\n",
       "    .dataframe tbody tr th:only-of-type {\n",
       "        vertical-align: middle;\n",
       "    }\n",
       "\n",
       "    .dataframe tbody tr th {\n",
       "        vertical-align: top;\n",
       "    }\n",
       "\n",
       "    .dataframe thead th {\n",
       "        text-align: right;\n",
       "    }\n",
       "</style>\n",
       "<table border=\"1\" class=\"dataframe\">\n",
       "  <thead>\n",
       "    <tr style=\"text-align: right;\">\n",
       "      <th></th>\n",
       "      <th>matchday</th>\n",
       "      <th>is_pass</th>\n",
       "      <th>team1</th>\n",
       "      <th>team2</th>\n",
       "      <th>score_team1</th>\n",
       "      <th>score_team2</th>\n",
       "      <th>date</th>\n",
       "      <th>time</th>\n",
       "    </tr>\n",
       "  </thead>\n",
       "  <tbody>\n",
       "    <tr>\n",
       "      <th>0</th>\n",
       "      <td>Matchday 17 of 38</td>\n",
       "      <td>False</td>\n",
       "      <td>Crystal Palace FC</td>\n",
       "      <td>Brighton &amp; Hove Albion FC</td>\n",
       "      <td></td>\n",
       "      <td></td>\n",
       "      <td>17/12/19</td>\n",
       "      <td>03:00</td>\n",
       "    </tr>\n",
       "    <tr>\n",
       "      <th>1</th>\n",
       "      <td>Matchday 17 of 38</td>\n",
       "      <td>False</td>\n",
       "      <td>Arsenal FC</td>\n",
       "      <td>Manchester City FC</td>\n",
       "      <td></td>\n",
       "      <td></td>\n",
       "      <td>15/12/19</td>\n",
       "      <td>23:30</td>\n",
       "    </tr>\n",
       "    <tr>\n",
       "      <th>2</th>\n",
       "      <td>Matchday 17 of 38</td>\n",
       "      <td>False</td>\n",
       "      <td>Wolverhampton Wanderers</td>\n",
       "      <td>Tottenham Hotspur FC</td>\n",
       "      <td></td>\n",
       "      <td></td>\n",
       "      <td>15/12/19</td>\n",
       "      <td>21:00</td>\n",
       "    </tr>\n",
       "    <tr>\n",
       "      <th>3</th>\n",
       "      <td>Matchday 17 of 38</td>\n",
       "      <td>False</td>\n",
       "      <td>Manchester United FC</td>\n",
       "      <td>Everton FC</td>\n",
       "      <td></td>\n",
       "      <td></td>\n",
       "      <td>15/12/19</td>\n",
       "      <td>21:00</td>\n",
       "    </tr>\n",
       "    <tr>\n",
       "      <th>4</th>\n",
       "      <td>Matchday 17 of 38</td>\n",
       "      <td>False</td>\n",
       "      <td>Southampton FC</td>\n",
       "      <td>West Ham United FC</td>\n",
       "      <td></td>\n",
       "      <td></td>\n",
       "      <td>15/12/19</td>\n",
       "      <td>00:30</td>\n",
       "    </tr>\n",
       "    <tr>\n",
       "      <th>...</th>\n",
       "      <td>...</td>\n",
       "      <td>...</td>\n",
       "      <td>...</td>\n",
       "      <td>...</td>\n",
       "      <td>...</td>\n",
       "      <td>...</td>\n",
       "      <td>...</td>\n",
       "      <td>...</td>\n",
       "    </tr>\n",
       "    <tr>\n",
       "      <th>76</th>\n",
       "      <td>Matchday 10 of 38</td>\n",
       "      <td>True</td>\n",
       "      <td>Watford FC</td>\n",
       "      <td>AFC Bournemouth</td>\n",
       "      <td>0</td>\n",
       "      <td>0</td>\n",
       "      <td>26/10/19</td>\n",
       "      <td></td>\n",
       "    </tr>\n",
       "    <tr>\n",
       "      <th>77</th>\n",
       "      <td>Matchday 10 of 38</td>\n",
       "      <td>True</td>\n",
       "      <td>Brighton &amp; Hove Albion FC</td>\n",
       "      <td>Everton FC</td>\n",
       "      <td>3</td>\n",
       "      <td>2</td>\n",
       "      <td>26/10/19</td>\n",
       "      <td></td>\n",
       "    </tr>\n",
       "    <tr>\n",
       "      <th>78</th>\n",
       "      <td>Matchday 10 of 38</td>\n",
       "      <td>True</td>\n",
       "      <td>Manchester City FC</td>\n",
       "      <td>Aston Villa FC</td>\n",
       "      <td>3</td>\n",
       "      <td>0</td>\n",
       "      <td>26/10/19</td>\n",
       "      <td></td>\n",
       "    </tr>\n",
       "    <tr>\n",
       "      <th>79</th>\n",
       "      <td>Matchday 10 of 38</td>\n",
       "      <td>True</td>\n",
       "      <td>Southampton FC</td>\n",
       "      <td>Leicester City FC</td>\n",
       "      <td>0</td>\n",
       "      <td>9</td>\n",
       "      <td>26/10/19</td>\n",
       "      <td></td>\n",
       "    </tr>\n",
       "    <tr>\n",
       "      <th>80</th>\n",
       "      <td>Matchday 9 of 38</td>\n",
       "      <td>True</td>\n",
       "      <td>Sheffield United FC</td>\n",
       "      <td>Arsenal FC</td>\n",
       "      <td>1</td>\n",
       "      <td>0</td>\n",
       "      <td>22/10/19</td>\n",
       "      <td></td>\n",
       "    </tr>\n",
       "  </tbody>\n",
       "</table>\n",
       "<p>81 rows × 8 columns</p>\n",
       "</div>"
      ],
      "text/plain": [
       "             matchday  is_pass                      team1  \\\n",
       "0   Matchday 17 of 38    False          Crystal Palace FC   \n",
       "1   Matchday 17 of 38    False                 Arsenal FC   \n",
       "2   Matchday 17 of 38    False    Wolverhampton Wanderers   \n",
       "3   Matchday 17 of 38    False       Manchester United FC   \n",
       "4   Matchday 17 of 38    False             Southampton FC   \n",
       "..                ...      ...                        ...   \n",
       "76  Matchday 10 of 38     True                 Watford FC   \n",
       "77  Matchday 10 of 38     True  Brighton & Hove Albion FC   \n",
       "78  Matchday 10 of 38     True         Manchester City FC   \n",
       "79  Matchday 10 of 38     True             Southampton FC   \n",
       "80   Matchday 9 of 38     True        Sheffield United FC   \n",
       "\n",
       "                        team2 score_team1 score_team2      date   time  \n",
       "0   Brighton & Hove Albion FC                          17/12/19  03:00  \n",
       "1          Manchester City FC                          15/12/19  23:30  \n",
       "2        Tottenham Hotspur FC                          15/12/19  21:00  \n",
       "3                  Everton FC                          15/12/19  21:00  \n",
       "4          West Ham United FC                          15/12/19  00:30  \n",
       "..                        ...         ...         ...       ...    ...  \n",
       "76            AFC Bournemouth           0           0  26/10/19         \n",
       "77                 Everton FC           3           2  26/10/19         \n",
       "78             Aston Villa FC           3           0  26/10/19         \n",
       "79          Leicester City FC           0           9  26/10/19         \n",
       "80                 Arsenal FC           1           0  22/10/19         \n",
       "\n",
       "[81 rows x 8 columns]"
      ]
     },
     "metadata": {},
     "output_type": "display_data"
    }
   ],
   "source": [
    "import pandas as panda\n",
    "dataFrames = panda.DataFrame(matchList_table)\n",
    "\n",
    "#display data as table\n",
    "display(dataFrames)"
   ]
  },
  {
   "cell_type": "markdown",
   "metadata": {},
   "source": [
    "## Save data to Database"
   ]
  },
  {
   "cell_type": "code",
   "execution_count": null,
   "metadata": {},
   "outputs": [],
   "source": [
    "import psycopg2 as pg\n",
    "import getpass\n",
    "\n",
    "#username = input('Username = ')\n",
    "pas = getpass.getpass('Password = ')\n",
    "conn = pg.connect(database=\"kelompok_15\", user=\"dir\", password=pas, host=\"127.0.0.1\", port=\"5432\")"
   ]
  },
  {
   "cell_type": "code",
   "execution_count": null,
   "metadata": {},
   "outputs": [],
   "source": [
    "cur = conn.cursor()\n",
    "for row in matchList_table:\n",
    "    if row['is_pass']:\n",
    "        cur.execute(\"insert into liga_ingris (matchday, is_pass, team1, team2, score_team1, score_team2, date) values ('\" +row['matchday']+ \"',\" +str(row['is_pass'])+ \",'\" +row['team1']+ \"','\" +row['team2']+ \"','\" +row['score_team1']+ \"','\" +row['score_team2']+ \"','\" +row['date']+ \"')\")        \n",
    "    else:\n",
    "        cur.execute(\"insert into liga_ingris (matchday, is_pass, team1, team2, date, time) values ('\" +row['matchday']+ \"',\" +str(row['is_pass'])+ \",'\" +row['team1']+ \"','\" +row['team2']+ \"','\" +row['date']+ \"','\" +row['time']+ \"')\")\n",
    "conn.commit()\n",
    "conn.close()"
   ]
  },
  {
   "cell_type": "markdown",
   "metadata": {},
   "source": [
    "## Get Datetime"
   ]
  },
  {
   "cell_type": "code",
   "execution_count": 4,
   "metadata": {},
   "outputs": [
    {
     "data": {
      "text/plain": [
       "{'matchday': 'Matchday 18 of 38',\n",
       " 'is_pass': False,\n",
       " 'team1': 'Tottenham Hotspur FC',\n",
       " 'team2': 'Chelsea FC',\n",
       " 'score_team1': '',\n",
       " 'score_team2': '',\n",
       " 'date': '22/12/19',\n",
       " 'time': '23:30'}"
      ]
     },
     "execution_count": 4,
     "metadata": {},
     "output_type": "execute_result"
    }
   ],
   "source": [
    "matchList_table[0]"
   ]
  },
  {
   "cell_type": "code",
   "execution_count": 7,
   "metadata": {},
   "outputs": [
    {
     "name": "stdout",
     "output_type": "stream",
     "text": [
      "['23', '30']\n"
     ]
    }
   ],
   "source": [
    "date1 = matchList_table[0]['date'].split(\"/\")\n",
    "time = matchList_table[0]['time'].split(\":\")\n",
    "print(time)"
   ]
  },
  {
   "cell_type": "code",
   "execution_count": 25,
   "metadata": {},
   "outputs": [],
   "source": [
    "import datetime as dt\n",
    "\n",
    "#parameter date=\"dd/mm/yy\" time=\"hh:mm\"\n",
    "def toDatetime(date, time):\n",
    "    dat = date.split('/')\n",
    "    tim = time.split(':')\n",
    "    return dt.datetime(int(\"20\"+dat[2]), int(dat[1]), int(dat[0]), int(tim[0]), int(tim[1]))\n",
    "\n",
    "def timeToNotify(time):\n",
    "    return time - dt.timedelta(hours=6)"
   ]
  },
  {
   "cell_type": "code",
   "execution_count": 27,
   "metadata": {},
   "outputs": [
    {
     "name": "stdout",
     "output_type": "stream",
     "text": [
      "22-December-19 00:30\n",
      "2019-12-21 18:30:00\n"
     ]
    }
   ],
   "source": [
    "x = toDatetime(matchList_table[2]['date'], matchList_table[2]['time'])\n",
    "\n",
    "#datetime to str\n",
    "y = x.strftime('%d-%B-%y %H:%M')\n",
    "\n",
    "print(y)\n",
    "\n",
    "print(timeToNotify(x))"
   ]
  },
  {
   "cell_type": "markdown",
   "metadata": {},
   "source": [
    "## Schedule"
   ]
  },
  {
   "cell_type": "code",
   "execution_count": 35,
   "metadata": {},
   "outputs": [
    {
     "name": "stdout",
     "output_type": "stream",
     "text": [
      "sesuatu\n"
     ]
    },
    {
     "data": {
      "text/plain": [
       "<bound method scheduler.run of <sched.scheduler object at 0x7f224f416e48>>"
      ]
     },
     "execution_count": 35,
     "metadata": {},
     "output_type": "execute_result"
    }
   ],
   "source": [
    "import sched, time\n",
    "\n",
    "timeToRun = toDatetime(\"23/11/19\", \"20:45\")\n",
    "\n",
    "scheduler = sched.scheduler(time.time, time.sleep)\n",
    "scheduler.enter(1,1, print(\"sesuatu\"), 'a1')\n",
    "scheduler.run"
   ]
  },
  {
   "cell_type": "code",
   "execution_count": null,
   "metadata": {},
   "outputs": [],
   "source": []
  }
 ],
 "metadata": {
  "kernelspec": {
   "display_name": "Python 3",
   "language": "python",
   "name": "python3"
  },
  "language_info": {
   "codemirror_mode": {
    "name": "ipython",
    "version": 3
   },
   "file_extension": ".py",
   "mimetype": "text/x-python",
   "name": "python",
   "nbconvert_exporter": "python",
   "pygments_lexer": "ipython3",
   "version": "3.6.8"
  }
 },
 "nbformat": 4,
 "nbformat_minor": 2
}
